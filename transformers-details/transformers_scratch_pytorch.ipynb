{
  "cells": [
    {
      "cell_type": "markdown",
      "metadata": {
        "colab_type": "text",
        "id": "view-in-github"
      },
      "source": [
        "<a href=\"https://colab.research.google.com/github/ShankarChavan/Gen-AI-LLMs/blob/main/transformers-details/Colab_transformers_scratch.ipynb\" target=\"_parent\"><img src=\"https://colab.research.google.com/assets/colab-badge.svg\" alt=\"Open In Colab\"/></a>"
      ]
    },
    {
      "cell_type": "markdown",
      "metadata": {
        "id": "f6b5Pmaxqpwq"
      },
      "source": [
        "**Table of contents**<a id='toc0_'></a>    \n",
        "- [Positional Encoding](#toc1_)    \n",
        "- [Multi-Head Attention](#toc2_)    \n",
        "- [Position-wise Feed-Forward Networks](#toc3_)    \n",
        "- [_Encoder Layer_](#toc4_)    \n",
        "- [_Decoder Layer_](#toc5_)    \n",
        "- [_Transformer Model_](#toc6_)    \n",
        "- [Prepare Sample Data](#toc7_)    \n",
        "- [Training the Model](#toc8_)    \n",
        "\n",
        "<!-- vscode-jupyter-toc-config\n",
        "\tnumbering=false\n",
        "\tanchor=true\n",
        "\tflat=false\n",
        "\tminLevel=1\n",
        "\tmaxLevel=6\n",
        "\t/vscode-jupyter-toc-config -->\n",
        "<!-- THIS CELL WILL BE REPLACED ON TOC UPDATE. DO NOT WRITE YOUR TEXT IN THIS CELL -->"
      ]
    },
    {
      "cell_type": "code",
      "execution_count": null,
      "metadata": {
        "id": "bBzp_i58qpwx"
      },
      "outputs": [],
      "source": [
        "import torch\n",
        "import torch.nn as nn\n",
        "import torch.optim as optim\n",
        "import torch.utils.data as data\n",
        "import math\n",
        "import copy"
      ]
    },
    {
      "cell_type": "code",
      "execution_count": null,
      "metadata": {
        "id": "xOgtTSCdtO61"
      },
      "outputs": [],
      "source": [
        "import torch\n",
        "\n",
        "if torch.cuda.is_available():\n",
        "  device = torch.device(\"cuda\")\n",
        "else:\n",
        "  device = torch.device(\"cpu\")"
      ]
    },
    {
      "cell_type": "code",
      "execution_count": null,
      "metadata": {
        "colab": {
          "base_uri": "https://localhost:8080/"
        },
        "id": "1IT6-Hd2tW0z",
        "outputId": "7eb5d4c4-f875-4375-ab01-605f9e029b55"
      },
      "outputs": [
        {
          "name": "stdout",
          "output_type": "stream",
          "text": [
            "cuda\n"
          ]
        }
      ],
      "source": [
        "print(device)"
      ]
    },
    {
      "cell_type": "markdown",
      "metadata": {
        "id": "xo2xWJCtqpw0"
      },
      "source": [
        "<a id='toc1_'></a>\n",
        "# <a id='toc1_'></a>[Positional Encoding](#toc0_)\n",
        "\n",
        "Positional Encoding is used to inject the position information of each token in the input sequence. It uses sine and cosine functions of different frequencies to generate the positional encoding."
      ]
    },
    {
      "cell_type": "markdown",
      "metadata": {
        "id": "KteFKuDhqpw1"
      },
      "source": [
        "![1-Input-Embedding](https://github.com/ShankarChavan/Gen-AI-LLMs/blob/main/assets/image-3.png?raw=1)\n",
        "![2-Positional Encoding](https://github.com/ShankarChavan/Gen-AI-LLMs/blob/main/assets/image-4.png?raw=1)"
      ]
    },
    {
      "cell_type": "code",
      "execution_count": null,
      "metadata": {
        "id": "FkGrKNAjqpw2"
      },
      "outputs": [],
      "source": [
        "class PositionalEncoding(nn.Module):\n",
        "    def __init__(self, d_model, max_seq_length):\n",
        "        super(PositionalEncoding, self).__init__()\n",
        "\n",
        "        pe = torch.zeros(max_seq_length, d_model)\n",
        "        position = torch.arange(0, max_seq_length, dtype=torch.float).unsqueeze(1)\n",
        "        div_term = torch.exp(torch.arange(0, d_model, 2).float() * -(math.log(10000.0) / d_model))\n",
        "\n",
        "        pe[:, 0::2] = torch.sin(position * div_term)\n",
        "        pe[:, 1::2] = torch.cos(position * div_term)\n",
        "\n",
        "        self.register_buffer('pe', pe.unsqueeze(0))\n",
        "\n",
        "    def forward(self, x):\n",
        "        return x + self.pe[:, :x.size(1)]"
      ]
    },
    {
      "cell_type": "markdown",
      "metadata": {
        "id": "fsx_rX_bqpw3"
      },
      "source": [
        "The PositionalEncoding class initializes with input parameters d_model and max_seq_length, creating a tensor to store positional encoding values. The class calculates sine and cosine values for even and odd indices, respectively, based on the scaling factor div_term. The forward method computes the positional encoding by adding the stored positional encoding values to the input tensor, allowing the model to capture the position information of the input sequence."
      ]
    },
    {
      "cell_type": "markdown",
      "metadata": {
        "id": "cuVbyMaNqpw4"
      },
      "source": [
        "# <a id='toc2_'></a>[Multi-Head Attention](#toc0_)"
      ]
    },
    {
      "cell_type": "markdown",
      "metadata": {
        "id": "q28pwlY7qpw4"
      },
      "source": [
        "The **Multi-Head Attention** mechanism computes the attention between each pair of positions in a sequence. It consists of multiple \"attention heads\" that capture different aspects of the input sequence."
      ]
    },
    {
      "cell_type": "markdown",
      "metadata": {
        "id": "lAAWugX6qpw5"
      },
      "source": [
        "![3-4-Encoder Layer](https://github.com/ShankarChavan/Gen-AI-LLMs/blob/main/assets/image-6.png?raw=1)\n",
        "![3-Multi-Headed Attention](https://github.com/ShankarChavan/Gen-AI-LLMs/blob/main/assets/image-7.png?raw=1)\n",
        "![Alt text](https://github.com/ShankarChavan/Gen-AI-LLMs/blob/main/assets/Q_K_V_vector.png?raw=1)\n",
        "![3.1-Self-Attention](https://github.com/ShankarChavan/Gen-AI-LLMs/blob/main/assets/image-8.png?raw=1)\n",
        "![3.1.2-scores_matrix_mult](https://github.com/ShankarChavan/Gen-AI-LLMs/blob/main/assets/image-10.png?raw=1)\n",
        "![3.1.3-scores_matrix_values](https://github.com/ShankarChavan/Gen-AI-LLMs/blob/main/assets/image-11.png?raw=1)\n",
        "![3.1.4-scores_scaled_matrix](https://github.com/ShankarChavan/Gen-AI-LLMs/blob/main/assets/image-12.png?raw=1)\n",
        "![3.1.5-Softmax_applied_scaled_scores](https://github.com/ShankarChavan/Gen-AI-LLMs/blob/main/assets/image-13.png?raw=1)\n",
        "![3.1.6-Attention_weight_by_values](https://github.com/ShankarChavan/Gen-AI-LLMs/blob/main/assets/image-14.png?raw=1)\n",
        "\n",
        "![3.2.1-Multi-headed-self-attention](https://github.com/ShankarChavan/Gen-AI-LLMs/blob/main/assets/image-15.png?raw=1)\n",
        "\n",
        "![3.2.2-Concat-Linear](https://github.com/ShankarChavan/Gen-AI-LLMs/blob/main/assets/image-16.png?raw=1)\n",
        "\n",
        "![3.3.1-Output-vector](https://github.com/ShankarChavan/Gen-AI-LLMs/blob/main/assets/image-17.png?raw=1)"
      ]
    },
    {
      "cell_type": "code",
      "execution_count": null,
      "metadata": {
        "id": "KOjRVIBCqpw6"
      },
      "outputs": [],
      "source": [
        "class MultiHeadAttention(nn.Module):\n",
        "    def __init__(self, d_model, num_heads):\n",
        "        super(MultiHeadAttention, self).__init__()\n",
        "        assert d_model % num_heads == 0, \"d_model must be divisible by num_heads\"\n",
        "\n",
        "        self.d_model = d_model\n",
        "        self.num_heads = num_heads\n",
        "        self.d_k = d_model // num_heads\n",
        "\n",
        "        self.W_q = nn.Linear(d_model, d_model)\n",
        "        self.W_k = nn.Linear(d_model, d_model)\n",
        "        self.W_v = nn.Linear(d_model, d_model)\n",
        "        self.W_o = nn.Linear(d_model, d_model)\n",
        "\n",
        "    def scaled_dot_product_attention(self, Q, K, V, mask=None):\n",
        "        attn_scores = torch.matmul(Q, K.transpose(-2, -1)) / math.sqrt(self.d_k)\n",
        "        if mask is not None:\n",
        "            attn_scores = attn_scores.masked_fill(mask == 0, -1e9)\n",
        "        attn_probs = torch.softmax(attn_scores, dim=-1)\n",
        "        output = torch.matmul(attn_probs, V)\n",
        "        return output\n",
        "\n",
        "    def split_heads(self, x):\n",
        "        batch_size, seq_length, d_model = x.size()\n",
        "        return x.view(batch_size, seq_length, self.num_heads, self.d_k).transpose(1, 2)\n",
        "\n",
        "    def combine_heads(self, x):\n",
        "        batch_size, _, seq_length, d_k = x.size()\n",
        "        return x.transpose(1, 2).contiguous().view(batch_size, seq_length, self.d_model)\n",
        "\n",
        "    def forward(self, Q, K, V, mask=None):\n",
        "        Q = self.split_heads(self.W_q(Q))\n",
        "        K = self.split_heads(self.W_k(K))\n",
        "        V = self.split_heads(self.W_v(V))\n",
        "\n",
        "        attn_output = self.scaled_dot_product_attention(Q, K, V, mask)\n",
        "        output = self.W_o(self.combine_heads(attn_output))\n",
        "        return output"
      ]
    },
    {
      "cell_type": "markdown",
      "metadata": {
        "id": "5hf170Uxqpw8"
      },
      "source": [
        "# <a id='toc3_'></a>[Position-wise Feed-Forward Networks](#toc0_)\n",
        "\n",
        "![4.-Residual-Conn-layer-norm](https://github.com/ShankarChavan/Gen-AI-LLMs/blob/main/assets/image-18.png?raw=1)\n",
        "![4.1-Residual-LayerNorm-Relu-LayerNorm](https://github.com/ShankarChavan/Gen-AI-LLMs/blob/main/assets/image-19.png?raw=1)\n"
      ]
    },
    {
      "cell_type": "code",
      "execution_count": null,
      "metadata": {
        "id": "ze7KJo4lqpw9"
      },
      "outputs": [],
      "source": [
        "class PositionWiseFeedForward(nn.Module):\n",
        "    def __init__(self, d_model, d_ff):\n",
        "        super(PositionWiseFeedForward, self).__init__()\n",
        "        self.fc1 = nn.Linear(d_model, d_ff)\n",
        "        self.fc2 = nn.Linear(d_ff, d_model)\n",
        "        self.relu = nn.ReLU()\n",
        "\n",
        "    def forward(self, x):\n",
        "        return self.fc2(self.relu(self.fc1(x)))"
      ]
    },
    {
      "cell_type": "markdown",
      "metadata": {
        "id": "HheAtHfsqpw-"
      },
      "source": [
        "The PositionWiseFeedForward class extends PyTorch’s nn.Module and implements a position-wise feed-forward network. The class initializes with two linear transformation layers and a ReLU activation function. The forward method applies these transformations and activation function sequentially to compute the output. This process enables the model to consider the position of input elements while making predictions."
      ]
    },
    {
      "cell_type": "markdown",
      "metadata": {
        "id": "2V42rWuzqpw_"
      },
      "source": [
        "![5-Stacking-of-encoder-layer](https://github.com/ShankarChavan/Gen-AI-LLMs/blob/main/assets/image-20.png?raw=1)"
      ]
    },
    {
      "cell_type": "markdown",
      "metadata": {
        "id": "wbptiFGbqpw_"
      },
      "source": [
        "# <a id='toc4_'></a>[_Encoder Layer_](#toc0_)"
      ]
    },
    {
      "cell_type": "markdown",
      "metadata": {
        "id": "LGD72clBqpxA"
      },
      "source": [
        "![Alt text](https://github.com/ShankarChavan/Gen-AI-LLMs/blob/main/assets/image-21.png?raw=1)"
      ]
    },
    {
      "cell_type": "markdown",
      "metadata": {
        "id": "s4CkUsDQqpxA"
      },
      "source": [
        "An Encoder layer consists of a Multi-Head Attention layer, a Position-wise Feed-Forward layer, and two Layer Normalization layers."
      ]
    },
    {
      "cell_type": "code",
      "execution_count": null,
      "metadata": {
        "id": "rDuOgHklqpxB"
      },
      "outputs": [],
      "source": [
        "class EncoderLayer(nn.Module):\n",
        "    def __init__(self, d_model, num_heads, d_ff, dropout):\n",
        "        super(EncoderLayer, self).__init__()\n",
        "        self.self_attn = MultiHeadAttention(d_model, num_heads)\n",
        "        self.feed_forward = PositionWiseFeedForward(d_model, d_ff)\n",
        "        self.norm1 = nn.LayerNorm(d_model)\n",
        "        self.norm2 = nn.LayerNorm(d_model)\n",
        "        self.dropout = nn.Dropout(dropout)\n",
        "\n",
        "    def forward(self, x, mask):\n",
        "        attn_output = self.self_attn(x, x, x, mask)\n",
        "        x = self.norm1(x + self.dropout(attn_output))\n",
        "        ff_output = self.feed_forward(x)\n",
        "        x = self.norm2(x + self.dropout(ff_output))\n",
        "        return x"
      ]
    },
    {
      "cell_type": "markdown",
      "metadata": {
        "id": "xOmEThydqpxB"
      },
      "source": [
        "The EncoderLayer class initializes with input parameters and components, including a **MultiHeadAttention module, a PositionWiseFeedForward module, two layer normalization modules, and a dropout layer**. The forward methods computes the encoder layer output by applying self-attention, adding the attention output to the input tensor, and normalizing the result. Then, it computes the position-wise feed-forward output, combines it with the normalized self-attention output, and normalizes the final result before returning the processed tensor."
      ]
    },
    {
      "cell_type": "markdown",
      "metadata": {
        "id": "g4SOgDoEqpxC"
      },
      "source": [
        "# <a id='toc5_'></a>[_Decoder Layer_](#toc0_)\n",
        "\n",
        "![Decoder-Layer](https://github.com/ShankarChavan/Gen-AI-LLMs/blob/main/assets/image-23.png?raw=1)"
      ]
    },
    {
      "cell_type": "markdown",
      "metadata": {
        "id": "Q6rIjBmMqpxC"
      },
      "source": [
        "A Decoder layer consists of two **Multi-Head Attention layers, a Position-wise Feed-Forward layer, and three Layer Normalization layers**."
      ]
    },
    {
      "cell_type": "code",
      "execution_count": null,
      "metadata": {
        "id": "Vh91r7BBqpxC"
      },
      "outputs": [],
      "source": [
        "class DecoderLayer(nn.Module):\n",
        "    def __init__(self, d_model, num_heads, d_ff, dropout):\n",
        "        super(DecoderLayer, self).__init__()\n",
        "        self.self_attn = MultiHeadAttention(d_model, num_heads)\n",
        "        self.cross_attn = MultiHeadAttention(d_model, num_heads)\n",
        "        self.feed_forward = PositionWiseFeedForward(d_model, d_ff)\n",
        "        self.norm1 = nn.LayerNorm(d_model)\n",
        "        self.norm2 = nn.LayerNorm(d_model)\n",
        "        self.norm3 = nn.LayerNorm(d_model)\n",
        "        self.dropout = nn.Dropout(dropout)\n",
        "\n",
        "    def forward(self, x, enc_output, src_mask, tgt_mask):\n",
        "        attn_output = self.self_attn(x, x, x, tgt_mask)\n",
        "        x = self.norm1(x + self.dropout(attn_output))\n",
        "        attn_output = self.cross_attn(x, enc_output, enc_output, src_mask)\n",
        "        x = self.norm2(x + self.dropout(attn_output))\n",
        "        ff_output = self.feed_forward(x)\n",
        "        x = self.norm3(x + self.dropout(ff_output))\n",
        "        return x"
      ]
    },
    {
      "cell_type": "markdown",
      "metadata": {
        "id": "rtYyQjH_qpxD"
      },
      "source": [
        "The DecoderLayer initializes with input parameters and components such as **MultiHeadAttention modules for masked self-attention and cross-attention, a PositionWiseFeedForward module, three layer normalization modules, and a dropout layer**.\n",
        "\n",
        "The forward method computes the decoder layer output by performing the following steps:\n",
        "\n",
        "- Calculate the masked self-attention output and add it to the input tensor, followed by dropout and layer normalization.\n",
        "- Compute the cross-attention output between the decoder and encoder outputs, and add it to the normalized masked self-attention output, followed by dropout and layer normalization.\n",
        "- Calculate the position-wise feed-forward output and combine it with the normalized cross-attention output, followed by dropout and layer normalization.\n",
        "- Return the processed tensor.\n",
        "\n",
        "These operations enable the decoder to generate target sequences based on the input and the encoder output."
      ]
    },
    {
      "cell_type": "markdown",
      "metadata": {
        "id": "6J5snDIjqpxE"
      },
      "source": [
        "# <a id='toc6_'></a>[_Transformer Model_](#toc0_)\n",
        "\n",
        "![Alt text](https://github.com/ShankarChavan/Gen-AI-LLMs/blob/main/assets/image-24.png?raw=1)\n",
        "\n",
        "Merging it all Together"
      ]
    },
    {
      "cell_type": "code",
      "execution_count": null,
      "metadata": {
        "id": "oIeMa0EfqpxE"
      },
      "outputs": [],
      "source": [
        "class Transformer(nn.Module):\n",
        "    def __init__(self, src_vocab_size, tgt_vocab_size, d_model, num_heads, num_layers, d_ff, max_seq_length, dropout):\n",
        "        super(Transformer, self).__init__()\n",
        "        self.encoder_embedding = nn.Embedding(src_vocab_size, d_model)\n",
        "        self.decoder_embedding = nn.Embedding(tgt_vocab_size, d_model)\n",
        "        self.positional_encoding = PositionalEncoding(d_model, max_seq_length)\n",
        "\n",
        "        self.encoder_layers = nn.ModuleList([EncoderLayer(d_model, num_heads, d_ff, dropout) for _ in range(num_layers)])\n",
        "        self.decoder_layers = nn.ModuleList([DecoderLayer(d_model, num_heads, d_ff, dropout) for _ in range(num_layers)])\n",
        "\n",
        "        self.fc = nn.Linear(d_model, tgt_vocab_size)\n",
        "        self.dropout = nn.Dropout(dropout)\n",
        "\n",
        "    def generate_mask(self, src, tgt):\n",
        "        src_mask = (src != 0).unsqueeze(1).unsqueeze(2)\n",
        "        tgt_mask = (tgt != 0).unsqueeze(1).unsqueeze(3)\n",
        "        seq_length = tgt.size(1)\n",
        "        nopeak_mask = (1 - torch.triu(torch.ones(1, seq_length, seq_length), diagonal=1)).bool()\n",
        "        tgt_mask = tgt_mask & nopeak_mask\n",
        "        return src_mask, tgt_mask\n",
        "\n",
        "    def forward(self, src, tgt):\n",
        "        src_mask, tgt_mask = self.generate_mask(src, tgt)\n",
        "        src_embedded = self.dropout(self.positional_encoding(self.encoder_embedding(src)))\n",
        "        tgt_embedded = self.dropout(self.positional_encoding(self.decoder_embedding(tgt)))\n",
        "\n",
        "        enc_output = src_embedded\n",
        "        for enc_layer in self.encoder_layers:\n",
        "            enc_output = enc_layer(enc_output, src_mask)\n",
        "\n",
        "        dec_output = tgt_embedded\n",
        "        for dec_layer in self.decoder_layers:\n",
        "            dec_output = dec_layer(dec_output, enc_output, src_mask, tgt_mask)\n",
        "\n",
        "        output = self.fc(dec_output)\n",
        "        return output"
      ]
    },
    {
      "cell_type": "markdown",
      "metadata": {
        "id": "quBHiwO3qpxF"
      },
      "source": [
        "The Transformer class combines the previously defined modules to create a complete Transformer model. During initialization, the Transformer module sets up input parameters and initializes various components, including embedding layers for source and target sequences, a PositionalEncoding module, EncoderLayer and DecoderLayer modules to create stacked layers, a linear layer for projecting decoder output, and a dropout layer.\n",
        "\n",
        "The generate_mask method creates binary masks for source and target sequences to ignore padding tokens and prevent the decoder from attending to future tokens.\n",
        "\n",
        "The forward method computes the Transformer model’s output through the following steps:\n",
        "\n",
        "1. Generate source and target masks using the generate_mask method.\n",
        "2. Compute source and target embeddings, and apply positional encoding and dropout.\n",
        "3. Process the source sequence through encoder layers, updating the enc_output tensor.\n",
        "4. Process the target sequence through decoder layers, using enc_output and masks, and updating the dec_output tensor.\n",
        "5. Apply the linear projection layer to the decoder output, obtaining output logits.\n",
        "\n",
        "These steps enable the Transformer model to process input sequences and generate output sequences based on the combined functionality of its components."
      ]
    },
    {
      "cell_type": "markdown",
      "metadata": {
        "id": "7TcxjgIQqpxF"
      },
      "source": [
        "# <a id='toc7_'></a>[Prepare Sample Data](#toc0_)\n",
        "\n",
        "In this example, we will create a toy dataset for demonstration purposes. In practice, you would use a larger dataset, preprocess the text, and create vocabulary mappings for source and target languages."
      ]
    },
    {
      "cell_type": "code",
      "execution_count": null,
      "metadata": {
        "id": "nsGlNrGfqpxG"
      },
      "outputs": [],
      "source": [
        "src_vocab_size = 5000\n",
        "tgt_vocab_size = 5000\n",
        "d_model = 512\n",
        "num_heads = 8\n",
        "num_layers = 6\n",
        "d_ff = 2048\n",
        "max_seq_length = 100\n",
        "dropout = 0.1\n",
        "\n",
        "transformer = Transformer(src_vocab_size, tgt_vocab_size, d_model, num_heads, num_layers, d_ff, max_seq_length, dropout)\n",
        "\n",
        "# Generate random sample data\n",
        "src_data = torch.randint(1, src_vocab_size, (64, max_seq_length))  # (batch_size, seq_length)\n",
        "tgt_data = torch.randint(1, tgt_vocab_size, (64, max_seq_length))  # (batch_size, seq_length)"
      ]
    },
    {
      "cell_type": "markdown",
      "metadata": {
        "id": "nt0E8b4jqpxG"
      },
      "source": [
        "# <a id='toc8_'></a>[Training the Model](#toc0_)\n",
        "Now we’ll train the model using the sample data. In practice, you would use a larger dataset and split it into training and validation sets."
      ]
    },
    {
      "cell_type": "code",
      "execution_count": null,
      "metadata": {
        "colab": {
          "base_uri": "https://localhost:8080/"
        },
        "id": "Jjrvz2wCqpxH",
        "outputId": "fdfc35f0-1d8d-4be9-fdf5-4bc996cc9bbe"
      },
      "outputs": [
        {
          "name": "stdout",
          "output_type": "stream",
          "text": [
            "Epoch: 1, Loss: 8.670790672302246\n",
            "Epoch: 2, Loss: 8.542296409606934\n",
            "Epoch: 3, Loss: 8.476363182067871\n",
            "Epoch: 4, Loss: 8.420205116271973\n",
            "Epoch: 5, Loss: 8.362591743469238\n",
            "Epoch: 6, Loss: 8.282110214233398\n",
            "Epoch: 7, Loss: 8.20651912689209\n",
            "Epoch: 8, Loss: 8.123579025268555\n",
            "Epoch: 9, Loss: 8.042201042175293\n",
            "Epoch: 10, Loss: 7.960916519165039\n",
            "Epoch: 11, Loss: 7.882750988006592\n",
            "Epoch: 12, Loss: 7.794997692108154\n",
            "Epoch: 13, Loss: 7.712817192077637\n",
            "Epoch: 14, Loss: 7.625358581542969\n",
            "Epoch: 15, Loss: 7.548154830932617\n",
            "Epoch: 16, Loss: 7.461191654205322\n",
            "Epoch: 17, Loss: 7.3775200843811035\n",
            "Epoch: 18, Loss: 7.294585704803467\n",
            "Epoch: 19, Loss: 7.211431980133057\n",
            "Epoch: 20, Loss: 7.137082099914551\n",
            "Epoch: 21, Loss: 7.0622029304504395\n",
            "Epoch: 22, Loss: 6.984019756317139\n",
            "Epoch: 23, Loss: 6.898898124694824\n",
            "Epoch: 24, Loss: 6.827769756317139\n",
            "Epoch: 25, Loss: 6.747014999389648\n",
            "Epoch: 26, Loss: 6.681588649749756\n",
            "Epoch: 27, Loss: 6.599752426147461\n",
            "Epoch: 28, Loss: 6.534604072570801\n",
            "Epoch: 29, Loss: 6.463239669799805\n",
            "Epoch: 30, Loss: 6.391097068786621\n",
            "Epoch: 31, Loss: 6.318325996398926\n",
            "Epoch: 32, Loss: 6.250725746154785\n",
            "Epoch: 33, Loss: 6.185104846954346\n",
            "Epoch: 34, Loss: 6.121702194213867\n",
            "Epoch: 35, Loss: 6.051582336425781\n",
            "Epoch: 36, Loss: 5.989748001098633\n",
            "Epoch: 37, Loss: 5.920669078826904\n",
            "Epoch: 38, Loss: 5.859318733215332\n",
            "Epoch: 39, Loss: 5.792605400085449\n",
            "Epoch: 40, Loss: 5.731555461883545\n",
            "Epoch: 41, Loss: 5.670986652374268\n",
            "Epoch: 42, Loss: 5.615667343139648\n",
            "Epoch: 43, Loss: 5.5507493019104\n",
            "Epoch: 44, Loss: 5.494197368621826\n",
            "Epoch: 45, Loss: 5.4313507080078125\n",
            "Epoch: 46, Loss: 5.367016315460205\n",
            "Epoch: 47, Loss: 5.312674522399902\n",
            "Epoch: 48, Loss: 5.252017974853516\n",
            "Epoch: 49, Loss: 5.192572116851807\n",
            "Epoch: 50, Loss: 5.134915828704834\n",
            "Epoch: 51, Loss: 5.076364994049072\n",
            "Epoch: 52, Loss: 5.026216506958008\n",
            "Epoch: 53, Loss: 4.969461917877197\n",
            "Epoch: 54, Loss: 4.917700290679932\n",
            "Epoch: 55, Loss: 4.865670204162598\n",
            "Epoch: 56, Loss: 4.809274673461914\n",
            "Epoch: 57, Loss: 4.754435062408447\n",
            "Epoch: 58, Loss: 4.69777774810791\n",
            "Epoch: 59, Loss: 4.651052951812744\n",
            "Epoch: 60, Loss: 4.600727558135986\n",
            "Epoch: 61, Loss: 4.544303894042969\n",
            "Epoch: 62, Loss: 4.500787734985352\n",
            "Epoch: 63, Loss: 4.439586162567139\n",
            "Epoch: 64, Loss: 4.394597053527832\n",
            "Epoch: 65, Loss: 4.336892604827881\n",
            "Epoch: 66, Loss: 4.299598693847656\n",
            "Epoch: 67, Loss: 4.241671562194824\n",
            "Epoch: 68, Loss: 4.1926093101501465\n",
            "Epoch: 69, Loss: 4.1427507400512695\n",
            "Epoch: 70, Loss: 4.0877556800842285\n",
            "Epoch: 71, Loss: 4.046379089355469\n",
            "Epoch: 72, Loss: 3.9945521354675293\n",
            "Epoch: 73, Loss: 3.945136070251465\n",
            "Epoch: 74, Loss: 3.9093754291534424\n",
            "Epoch: 75, Loss: 3.8563790321350098\n",
            "Epoch: 76, Loss: 3.8103888034820557\n",
            "Epoch: 77, Loss: 3.755800724029541\n",
            "Epoch: 78, Loss: 3.706634283065796\n",
            "Epoch: 79, Loss: 3.662795305252075\n",
            "Epoch: 80, Loss: 3.616865396499634\n",
            "Epoch: 81, Loss: 3.5746090412139893\n",
            "Epoch: 82, Loss: 3.5221073627471924\n",
            "Epoch: 83, Loss: 3.485633611679077\n",
            "Epoch: 84, Loss: 3.4350357055664062\n",
            "Epoch: 85, Loss: 3.394239902496338\n",
            "Epoch: 86, Loss: 3.3477466106414795\n",
            "Epoch: 87, Loss: 3.3070366382598877\n",
            "Epoch: 88, Loss: 3.254549264907837\n",
            "Epoch: 89, Loss: 3.2118594646453857\n",
            "Epoch: 90, Loss: 3.1665167808532715\n",
            "Epoch: 91, Loss: 3.1215739250183105\n",
            "Epoch: 92, Loss: 3.0788466930389404\n",
            "Epoch: 93, Loss: 3.035597085952759\n",
            "Epoch: 94, Loss: 2.9931325912475586\n",
            "Epoch: 95, Loss: 2.9516561031341553\n",
            "Epoch: 96, Loss: 2.913261651992798\n",
            "Epoch: 97, Loss: 2.862842559814453\n",
            "Epoch: 98, Loss: 2.8185222148895264\n",
            "Epoch: 99, Loss: 2.7776267528533936\n",
            "Epoch: 100, Loss: 2.7369163036346436\n"
          ]
        }
      ],
      "source": [
        "criterion = nn.CrossEntropyLoss(ignore_index=0)\n",
        "optimizer = optim.Adam(transformer.parameters(), lr=0.0001, betas=(0.9, 0.98), eps=1e-9)\n",
        "\n",
        "transformer.train()\n",
        "\n",
        "for epoch in range(100):\n",
        "    optimizer.zero_grad()\n",
        "    output = transformer(src_data, tgt_data[:, :-1])\n",
        "    loss = criterion(output.contiguous().view(-1, tgt_vocab_size), tgt_data[:, 1:].contiguous().view(-1))\n",
        "    loss.backward()\n",
        "    optimizer.step()\n",
        "    print(f\"Epoch: {epoch+1}, Loss: {loss.item()}\")"
      ]
    }
  ],
  "metadata": {
    "accelerator": "GPU",
    "colab": {
      "gpuType": "T4",
      "include_colab_link": true,
      "provenance": []
    },
    "kernelspec": {
      "display_name": "Python 3",
      "name": "python3"
    },
    "language_info": {
      "name": "python"
    },
    "orig_nbformat": 4
  },
  "nbformat": 4,
  "nbformat_minor": 0
}
